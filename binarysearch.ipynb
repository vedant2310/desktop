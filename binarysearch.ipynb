{
 "cells": [
  {
   "cell_type": "code",
   "execution_count": null,
   "id": "4dbe9a06-6717-4d36-a9a4-e34cdc1f928d",
   "metadata": {},
   "outputs": [],
   "source": [
    "def binary_search(array, key):\n",
    "    start = 0\n",
    "    end = len(array) - 1\n",
    "    \n",
    "    for i in range(start, len(array)):\n",
    "        mid = int((start + end) / 2)\n",
    "        \n",
    "        if array[mid] == key:\n",
    "            print(f\"{key} has been found on the index {mid}\")\n",
    "            break\n",
    "        \n",
    "        if array[mid] < key:\n",
    "            start = mid + 1\n",
    "        \n",
    "        if array[mid] > key:\n",
    "            end = mid - 1\n",
    "    \n",
    "    else:\n",
    "        print(f\"Customer Account Id is not found\")\n",
    "\n",
    "n = int(input(\"Enter the Number of IDs: \"))\n",
    "a = []\n",
    "\n",
    "for i in range(1, n + 1):\n",
    "    num = int(input(f\"Customer Account ID at the index {i} will be: \"))\n",
    "    a.append(num)\n",
    "\n",
    "print(f\"Customer Account ID list formed is: {a}\")\n",
    "\n",
    "b = int(input(\"Enter a Customer Account ID to find: \"))\n",
    "binary_search(a, b)"
   ]
  }
 ],
 "metadata": {
  "kernelspec": {
   "display_name": "Python 3 (ipykernel)",
   "language": "python",
   "name": "python3"
  },
  "language_info": {
   "codemirror_mode": {
    "name": "ipython",
    "version": 3
   },
   "file_extension": ".py",
   "mimetype": "text/x-python",
   "name": "python",
   "nbconvert_exporter": "python",
   "pygments_lexer": "ipython3",
   "version": "3.10.12"
  }
 },
 "nbformat": 4,
 "nbformat_minor": 5
}
